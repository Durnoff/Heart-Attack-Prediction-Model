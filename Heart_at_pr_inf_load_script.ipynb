{
  "nbformat": 4,
  "nbformat_minor": 0,
  "metadata": {
    "colab": {
      "provenance": []
    },
    "kernelspec": {
      "name": "python3",
      "display_name": "Python 3"
    },
    "language_info": {
      "name": "python"
    }
  },
  "cells": [
    {
      "cell_type": "code",
      "execution_count": 2,
      "metadata": {
        "colab": {
          "base_uri": "https://localhost:8080/"
        },
        "id": "1gI3mvZ7-Kgg",
        "outputId": "ac062b62-5b46-4689-88bf-c6d0c593c384"
      },
      "outputs": [
        {
          "output_type": "stream",
          "name": "stdout",
          "text": [
            "Mounted at /content/drive\n",
            "Модель MLPClassifier(hidden_layer_sizes=(50, 30), learning_rate_init=0.01,\n",
            "              max_iter=100) и Scaler успешно загружены.\n",
            "Предсказания для первых 50 записей:\n",
            "Запись {'age': 53.963191, 'sex': 1.0, 'chest': 4.0, 'resting_blood_pressure': 136.940829, 'serum_cholestoral': 236.862814, 'fasting_blood_sugar': 0.0, 'resting_electrocardiographic_results': 2.0, 'maximum_heart_rate_achieved': 143.961525, 'exercise_induced_angina': 1.0, 'oldpeak': 0.7111, 'slope': 1.0, 'number_of_major_vessels': 2.0, 'thal': 7.0} -> Предсказание: 1\n",
            "Запись {'age': 49.621479, 'sex': 1.0, 'chest': 4.0, 'resting_blood_pressure': 122.024651, 'serum_cholestoral': 226.593019, 'fasting_blood_sugar': 0.0, 'resting_electrocardiographic_results': 2.0, 'maximum_heart_rate_achieved': 112.220874, 'exercise_induced_angina': 1.0, 'oldpeak': 0.0, 'slope': 1.0, 'number_of_major_vessels': 1.0, 'thal': 7.0} -> Предсказание: 1\n",
            "Запись {'age': 36.933893, 'sex': 1.0, 'chest': 1.300924, 'resting_blood_pressure': 127.585643, 'serum_cholestoral': 351.061046, 'fasting_blood_sugar': 0.0, 'resting_electrocardiographic_results': 0.0, 'maximum_heart_rate_achieved': 177.945922, 'exercise_induced_angina': 0.0, 'oldpeak': 0.313078, 'slope': 1.0, 'number_of_major_vessels': 0.0, 'thal': 7.0} -> Предсказание: 0\n",
            "Запись {'age': 54.884588, 'sex': 1.0, 'chest': 3.0, 'resting_blood_pressure': 124.876745, 'serum_cholestoral': 250.37053, 'fasting_blood_sugar': 0.0, 'resting_electrocardiographic_results': 0.0, 'maximum_heart_rate_achieved': 153.176526, 'exercise_induced_angina': 0.0, 'oldpeak': 0.308277, 'slope': 1.0, 'number_of_major_vessels': 1.0, 'thal': 7.0} -> Предсказание: 0\n",
            "Запись {'age': 71.01639200000001, 'sex': 0.0, 'chest': 1.7469720000000002, 'resting_blood_pressure': 120.9226, 'serum_cholestoral': 210.97971, 'fasting_blood_sugar': 0.0, 'resting_electrocardiographic_results': 0.0, 'maximum_heart_rate_achieved': 164.57312199999998, 'exercise_induced_angina': 0.0, 'oldpeak': 1.02137, 'slope': 1.0, 'number_of_major_vessels': 1.0, 'thal': 3.0} -> Предсказание: 0\n",
            "Запись {'age': 53.725339, 'sex': 1.0, 'chest': 4.0, 'resting_blood_pressure': 136.168802, 'serum_cholestoral': 247.845544, 'fasting_blood_sugar': 0.0, 'resting_electrocardiographic_results': 0.0, 'maximum_heart_rate_achieved': 139.663069, 'exercise_induced_angina': 1.0, 'oldpeak': 3.380625, 'slope': 2.0, 'number_of_major_vessels': 0.0, 'thal': 3.0} -> Предсказание: 1\n",
            "Запись {'age': 55.480674, 'sex': 1.0, 'chest': 4.0, 'resting_blood_pressure': 161.094098, 'serum_cholestoral': 276.82801800000004, 'fasting_blood_sugar': 0.0, 'resting_electrocardiographic_results': 2.0, 'maximum_heart_rate_achieved': 134.59886799999998, 'exercise_induced_angina': 1.0, 'oldpeak': 0.900092, 'slope': 2.0, 'number_of_major_vessels': 0.0, 'thal': 3.0} -> Предсказание: 1\n",
            "Запись {'age': 37.138751, 'sex': 0.0, 'chest': 3.0, 'resting_blood_pressure': 101.199287, 'serum_cholestoral': 255.497983, 'fasting_blood_sugar': 1.0, 'resting_electrocardiographic_results': 2.0, 'maximum_heart_rate_achieved': 160.295489, 'exercise_induced_angina': 0.0, 'oldpeak': 1.825326, 'slope': 1.0, 'number_of_major_vessels': 0.0, 'thal': 3.0} -> Предсказание: 0\n",
            "Запись {'age': 54.177437, 'sex': 1.0, 'chest': 4.0, 'resting_blood_pressure': 118.007057, 'serum_cholestoral': 286.130833, 'fasting_blood_sugar': 0.0, 'resting_electrocardiographic_results': 0.0, 'maximum_heart_rate_achieved': 139.886988, 'exercise_induced_angina': 1.0, 'oldpeak': 2.885049, 'slope': 1.0, 'number_of_major_vessels': 1.0, 'thal': 3.0} -> Предсказание: 1\n",
            "Запись {'age': 67.555357, 'sex': 0.0, 'chest': 2.16384, 'resting_blood_pressure': 110.171357, 'serum_cholestoral': 245.918432, 'fasting_blood_sugar': 0.0, 'resting_electrocardiographic_results': 0.0, 'maximum_heart_rate_achieved': 108.653821, 'exercise_induced_angina': 1.0, 'oldpeak': 0.0, 'slope': 1.0, 'number_of_major_vessels': 2.0, 'thal': 3.0} -> Предсказание: 0\n",
            "Запись {'age': 66.065287, 'sex': 1.0, 'chest': 4.0, 'resting_blood_pressure': 143.143192, 'serum_cholestoral': 332.61559900000003, 'fasting_blood_sugar': 1.0, 'resting_electrocardiographic_results': 2.0, 'maximum_heart_rate_achieved': 135.049384, 'exercise_induced_angina': 1.0, 'oldpeak': 0.957876, 'slope': 2.0, 'number_of_major_vessels': 1.0, 'thal': 7.0} -> Предсказание: 1\n",
            "Запись {'age': 67.464567, 'sex': 1.0, 'chest': 4.0, 'resting_blood_pressure': 130.729461, 'serum_cholestoral': 236.870044, 'fasting_blood_sugar': 0.0, 'resting_electrocardiographic_results': 0.0, 'maximum_heart_rate_achieved': 149.368107, 'exercise_induced_angina': 1.0, 'oldpeak': 1.595078, 'slope': 2.0, 'number_of_major_vessels': 0.0, 'thal': 7.0} -> Предсказание: 1\n",
            "Запись {'age': 59.46366, 'sex': 1.0, 'chest': 4.0, 'resting_blood_pressure': 106.323644, 'serum_cholestoral': 253.747792, 'fasting_blood_sugar': 0.0, 'resting_electrocardiographic_results': 2.0, 'maximum_heart_rate_achieved': 104.736908, 'exercise_induced_angina': 1.0, 'oldpeak': 2.525658, 'slope': 2.0, 'number_of_major_vessels': 0.0, 'thal': 6.0} -> Предсказание: 1\n",
            "Запись {'age': 60.291161, 'sex': 1.0, 'chest': 3.0, 'resting_blood_pressure': 166.200498, 'serum_cholestoral': 281.89473300000003, 'fasting_blood_sugar': 0.0, 'resting_electrocardiographic_results': 2.0, 'maximum_heart_rate_achieved': 179.268175, 'exercise_induced_angina': 0.0, 'oldpeak': 0.0, 'slope': 1.0, 'number_of_major_vessels': 0.0, 'thal': 6.0} -> Предсказание: 0\n",
            "Запись {'age': 54.923209, 'sex': 1.0, 'chest': 4.0, 'resting_blood_pressure': 137.849347, 'serum_cholestoral': 174.450579, 'fasting_blood_sugar': 0.0, 'resting_electrocardiographic_results': 0.0, 'maximum_heart_rate_achieved': 141.174816, 'exercise_induced_angina': 1.0, 'oldpeak': 0.0, 'slope': 1.0, 'number_of_major_vessels': 0.0, 'thal': 7.0} -> Предсказание: 1\n",
            "Запись {'age': 60.826675, 'sex': 1.0, 'chest': 4.0, 'resting_blood_pressure': 142.692421, 'serum_cholestoral': 358.774066, 'fasting_blood_sugar': 0.0, 'resting_electrocardiographic_results': 0.0, 'maximum_heart_rate_achieved': 173.84571, 'exercise_induced_angina': 0.0, 'oldpeak': 0.0, 'slope': 1.0, 'number_of_major_vessels': 0.0, 'thal': 3.0} -> Предсказание: 0\n",
            "Запись {'age': 72.815752, 'sex': 1.0, 'chest': 3.0, 'resting_blood_pressure': 138.451187, 'serum_cholestoral': 281.792873, 'fasting_blood_sugar': 0.0, 'resting_electrocardiographic_results': 2.0, 'maximum_heart_rate_achieved': 126.762887, 'exercise_induced_angina': 0.0, 'oldpeak': 0.516867, 'slope': 1.0, 'number_of_major_vessels': 1.0, 'thal': 7.0} -> Предсказание: 1\n",
            "Запись {'age': 39.12539, 'sex': 1.0, 'chest': 4.0, 'resting_blood_pressure': 142.053272, 'serum_cholestoral': 244.103487, 'fasting_blood_sugar': 0.0, 'resting_electrocardiographic_results': 2.0, 'maximum_heart_rate_achieved': 123.66828999999998, 'exercise_induced_angina': 1.0, 'oldpeak': 1.43484, 'slope': 1.0, 'number_of_major_vessels': 0.0, 'thal': 6.0} -> Предсказание: 1\n",
            "Запись {'age': 58.92035500000001, 'sex': 1.0, 'chest': 4.0, 'resting_blood_pressure': 122.165302, 'serum_cholestoral': 227.085508, 'fasting_blood_sugar': 0.0, 'resting_electrocardiographic_results': 2.0, 'maximum_heart_rate_achieved': 136.09741200000002, 'exercise_induced_angina': 1.0, 'oldpeak': 3.1644520000000003, 'slope': 2.0, 'number_of_major_vessels': 2.0, 'thal': 3.0} -> Предсказание: 1\n",
            "Запись {'age': 56.495171, 'sex': 0.0, 'chest': 3.0, 'resting_blood_pressure': 127.748984, 'serum_cholestoral': 229.139739, 'fasting_blood_sugar': 0.0, 'resting_electrocardiographic_results': 2.0, 'maximum_heart_rate_achieved': 185.643585, 'exercise_induced_angina': 0.0, 'oldpeak': 4.037217, 'slope': 3.0, 'number_of_major_vessels': 0.0, 'thal': 3.0} -> Предсказание: 0\n",
            "Запись {'age': 36.035119, 'sex': 0.0, 'chest': 4.0, 'resting_blood_pressure': 102.276389, 'serum_cholestoral': 248.284293, 'fasting_blood_sugar': 1.0, 'resting_electrocardiographic_results': 2.0, 'maximum_heart_rate_achieved': 160.841613, 'exercise_induced_angina': 1.0, 'oldpeak': 1.1259549999999998, 'slope': 2.0, 'number_of_major_vessels': 1.0, 'thal': 3.0} -> Предсказание: 0\n",
            "Запись {'age': 50.992588, 'sex': 1.0, 'chest': 4.0, 'resting_blood_pressure': 121.281843, 'serum_cholestoral': 384.385036, 'fasting_blood_sugar': 0.0, 'resting_electrocardiographic_results': 0.0, 'maximum_heart_rate_achieved': 149.486659, 'exercise_induced_angina': 0.0, 'oldpeak': 3.773734, 'slope': 2.0, 'number_of_major_vessels': 3.0, 'thal': 7.0} -> Предсказание: 1\n",
            "Запись {'age': 55.687989, 'sex': 1.0, 'chest': 1.705711, 'resting_blood_pressure': 110.810143, 'serum_cholestoral': 177.137234, 'fasting_blood_sugar': 1.0, 'resting_electrocardiographic_results': 1.0, 'maximum_heart_rate_achieved': 151.48324, 'exercise_induced_angina': 0.0, 'oldpeak': 0.0, 'slope': 1.0, 'number_of_major_vessels': 1.0, 'thal': 3.0} -> Предсказание: 0\n",
            "Запись {'age': 45.164139, 'sex': 1.0, 'chest': 3.0, 'resting_blood_pressure': 117.542273, 'serum_cholestoral': 277.939184, 'fasting_blood_sugar': 0.0, 'resting_electrocardiographic_results': 1.0, 'maximum_heart_rate_achieved': 147.748907, 'exercise_induced_angina': 0.0, 'oldpeak': 1.776898, 'slope': 1.0, 'number_of_major_vessels': 0.0, 'thal': 7.0} -> Предсказание: 0\n",
            "Запись {'age': 55.873875, 'sex': 1.0, 'chest': 4.0, 'resting_blood_pressure': 167.887467, 'serum_cholestoral': 275.711529, 'fasting_blood_sugar': 0.0, 'resting_electrocardiographic_results': 2.0, 'maximum_heart_rate_achieved': 137.569776, 'exercise_induced_angina': 0.0, 'oldpeak': 1.760657, 'slope': 2.0, 'number_of_major_vessels': 1.0, 'thal': 7.0} -> Предсказание: 1\n",
            "Запись {'age': 66.39539599999999, 'sex': 0.0, 'chest': 2.074612, 'resting_blood_pressure': 139.262114, 'serum_cholestoral': 217.232681, 'fasting_blood_sugar': 0.0, 'resting_electrocardiographic_results': 2.0, 'maximum_heart_rate_achieved': 142.48396599999998, 'exercise_induced_angina': 0.0, 'oldpeak': 0.347814, 'slope': 1.0, 'number_of_major_vessels': 0.0, 'thal': 3.0} -> Предсказание: 0\n",
            "Запись {'age': 51.901542, 'sex': 1.0, 'chest': 0.74865, 'resting_blood_pressure': 118.583135, 'serum_cholestoral': 389.654263, 'fasting_blood_sugar': 0.0, 'resting_electrocardiographic_results': 0.0, 'maximum_heart_rate_achieved': 149.350251, 'exercise_induced_angina': 0.0, 'oldpeak': 0.0, 'slope': 1.0, 'number_of_major_vessels': 0.0, 'thal': 3.0} -> Предсказание: 0\n",
            "Запись {'age': 55.964287, 'sex': 0.0, 'chest': 4.0, 'resting_blood_pressure': 112.998923, 'serum_cholestoral': 216.667728, 'fasting_blood_sugar': 0.0, 'resting_electrocardiographic_results': 0.0, 'maximum_heart_rate_achieved': 165.096016, 'exercise_induced_angina': 1.0, 'oldpeak': 1.704479, 'slope': 1.0, 'number_of_major_vessels': 0.0, 'thal': 3.0} -> Предсказание: 0\n",
            "Запись {'age': 36.908614, 'sex': 1.0, 'chest': 3.0, 'resting_blood_pressure': 140.947011, 'serum_cholestoral': 245.083485, 'fasting_blood_sugar': 0.0, 'resting_electrocardiographic_results': 0.0, 'maximum_heart_rate_achieved': 170.18687, 'exercise_induced_angina': 0.0, 'oldpeak': 0.5480079999999999, 'slope': 2.0, 'number_of_major_vessels': 0.0, 'thal': 7.0} -> Предсказание: 0\n",
            "Запись {'age': 69.525826, 'sex': 1.0, 'chest': 3.0, 'resting_blood_pressure': 141.79183600000002, 'serum_cholestoral': 188.060983, 'fasting_blood_sugar': 0.0, 'resting_electrocardiographic_results': 2.0, 'maximum_heart_rate_achieved': 142.437826, 'exercise_induced_angina': 0.0, 'oldpeak': 0.8698879999999999, 'slope': 2.0, 'number_of_major_vessels': 1.0, 'thal': 6.0} -> Предсказание: 1\n",
            "Запись {'age': 47.450426, 'sex': 1.0, 'chest': 4.0, 'resting_blood_pressure': 124.545829, 'serum_cholestoral': 236.49966, 'fasting_blood_sugar': 0.0, 'resting_electrocardiographic_results': 2.0, 'maximum_heart_rate_achieved': 166.272641, 'exercise_induced_angina': 0.0, 'oldpeak': 0.0, 'slope': 1.0, 'number_of_major_vessels': 1.0, 'thal': 7.0} -> Предсказание: 0\n",
            "Запись {'age': 40.279116, 'sex': 0.0, 'chest': 4.0, 'resting_blood_pressure': 128.553094, 'serum_cholestoral': 246.722898, 'fasting_blood_sugar': 0.0, 'resting_electrocardiographic_results': 2.0, 'maximum_heart_rate_achieved': 146.813646, 'exercise_induced_angina': 0.0, 'oldpeak': 1.154417, 'slope': 1.0, 'number_of_major_vessels': 0.0, 'thal': 7.0} -> Предсказание: 0\n",
            "Запись {'age': 68.12638100000001, 'sex': 0.0, 'chest': 3.0, 'resting_blood_pressure': 127.909903, 'serum_cholestoral': 248.716361, 'fasting_blood_sugar': 0.0, 'resting_electrocardiographic_results': 2.0, 'maximum_heart_rate_achieved': 123.124441, 'exercise_induced_angina': 1.0, 'oldpeak': 0.540914, 'slope': 2.0, 'number_of_major_vessels': 0.0, 'thal': 3.0} -> Предсказание: 0\n",
            "Запись {'age': 57.094277000000005, 'sex': 0.0, 'chest': 0.983015, 'resting_blood_pressure': 143.567981, 'serum_cholestoral': 242.352616, 'fasting_blood_sugar': 0.0, 'resting_electrocardiographic_results': 2.0, 'maximum_heart_rate_achieved': 159.33270900000002, 'exercise_induced_angina': 0.0, 'oldpeak': 0.0, 'slope': 1.0, 'number_of_major_vessels': 0.0, 'thal': 3.0} -> Предсказание: 0\n",
            "Запись {'age': 54.273466000000006, 'sex': 1.0, 'chest': 4.0, 'resting_blood_pressure': 160.010476, 'serum_cholestoral': 271.790229, 'fasting_blood_sugar': 0.0, 'resting_electrocardiographic_results': 0.0, 'maximum_heart_rate_achieved': 114.955012, 'exercise_induced_angina': 0.0, 'oldpeak': 0.584594, 'slope': 2.0, 'number_of_major_vessels': 0.0, 'thal': 3.0} -> Предсказание: 0\n",
            "Запись {'age': 47.831925, 'sex': 0.0, 'chest': 3.0, 'resting_blood_pressure': 139.537119, 'serum_cholestoral': 185.586321, 'fasting_blood_sugar': 0.0, 'resting_electrocardiographic_results': 0.0, 'maximum_heart_rate_achieved': 185.748772, 'exercise_induced_angina': 0.0, 'oldpeak': 0.0, 'slope': 1.0, 'number_of_major_vessels': 0.0, 'thal': 3.0} -> Предсказание: 0\n",
            "Запись {'age': 57.81853, 'sex': 1.0, 'chest': 4.0, 'resting_blood_pressure': 130.910993, 'serum_cholestoral': 236.594261, 'fasting_blood_sugar': 0.0, 'resting_electrocardiographic_results': 2.0, 'maximum_heart_rate_achieved': 125.64455900000002, 'exercise_induced_angina': 1.0, 'oldpeak': 3.626876, 'slope': 2.0, 'number_of_major_vessels': 0.0, 'thal': 7.0} -> Предсказание: 1\n",
            "Запись {'age': 48.85134, 'sex': 0.0, 'chest': 1.467701, 'resting_blood_pressure': 120.430213, 'serum_cholestoral': 244.126044, 'fasting_blood_sugar': 0.0, 'resting_electrocardiographic_results': 0.0, 'maximum_heart_rate_achieved': 163.006407, 'exercise_induced_angina': 0.0, 'oldpeak': 0.395565, 'slope': 1.0, 'number_of_major_vessels': 0.0, 'thal': 3.0} -> Предсказание: 0\n",
            "Запись {'age': 57.208798, 'sex': 1.0, 'chest': 4.0, 'resting_blood_pressure': 139.45181100000002, 'serum_cholestoral': 325.28306000000003, 'fasting_blood_sugar': 0.0, 'resting_electrocardiographic_results': 0.0, 'maximum_heart_rate_achieved': 125.072639, 'exercise_induced_angina': 0.0, 'oldpeak': 1.6438849999999998, 'slope': 2.0, 'number_of_major_vessels': 1.0, 'thal': 7.0} -> Предсказание: 1\n",
            "Запись {'age': 46.681859, 'sex': 1.0, 'chest': 4.0, 'resting_blood_pressure': 123.251552, 'serum_cholestoral': 340.493218, 'fasting_blood_sugar': 0.0, 'resting_electrocardiographic_results': 0.0, 'maximum_heart_rate_achieved': 111.750095, 'exercise_induced_angina': 0.0, 'oldpeak': 0.261474, 'slope': 1.0, 'number_of_major_vessels': 0.0, 'thal': 7.0} -> Предсказание: 0\n",
            "Запись {'age': 57.976616, 'sex': 1.0, 'chest': 4.0, 'resting_blood_pressure': 121.592101, 'serum_cholestoral': 225.85637000000003, 'fasting_blood_sugar': 0.0, 'resting_electrocardiographic_results': 2.0, 'maximum_heart_rate_achieved': 134.343226, 'exercise_induced_angina': 1.0, 'oldpeak': 4.468881, 'slope': 2.0, 'number_of_major_vessels': 3.0, 'thal': 7.0} -> Предсказание: 1\n",
            "Запись {'age': 44.143315, 'sex': 1.0, 'chest': 1.816763, 'resting_blood_pressure': 104.087225, 'serum_cholestoral': 244.424991, 'fasting_blood_sugar': 1.0, 'resting_electrocardiographic_results': 0.0, 'maximum_heart_rate_achieved': 187.396621, 'exercise_induced_angina': 0.0, 'oldpeak': 0.0, 'slope': 2.0, 'number_of_major_vessels': 0.0, 'thal': 7.0} -> Предсказание: 0\n",
            "Запись {'age': 60.82981, 'sex': 0.0, 'chest': 4.0, 'resting_blood_pressure': 116.985312, 'serum_cholestoral': 241.171361, 'fasting_blood_sugar': 0.0, 'resting_electrocardiographic_results': 2.0, 'maximum_heart_rate_achieved': 136.018628, 'exercise_induced_angina': 1.0, 'oldpeak': 0.997664, 'slope': 2.0, 'number_of_major_vessels': 0.0, 'thal': 7.0} -> Предсказание: 1\n",
            "Запись {'age': 38.729445, 'sex': 0.0, 'chest': 1.318824, 'resting_blood_pressure': 125.136207, 'serum_cholestoral': 317.532, 'fasting_blood_sugar': 0.0, 'resting_electrocardiographic_results': 1.0, 'maximum_heart_rate_achieved': 182.448239, 'exercise_induced_angina': 0.0, 'oldpeak': 1.729929, 'slope': 2.0, 'number_of_major_vessels': 0.0, 'thal': 3.0} -> Предсказание: 0\n",
            "Запись {'age': 56.888103, 'sex': 0.0, 'chest': 4.0, 'resting_blood_pressure': 136.91656899999998, 'serum_cholestoral': 214.744424, 'fasting_blood_sugar': 0.0, 'resting_electrocardiographic_results': 1.0, 'maximum_heart_rate_achieved': 138.040657, 'exercise_induced_angina': 1.0, 'oldpeak': 2.738591, 'slope': 2.0, 'number_of_major_vessels': 1.0, 'thal': 7.0} -> Предсказание: 1\n",
            "Запись {'age': 36.996721, 'sex': 1.0, 'chest': 3.0, 'resting_blood_pressure': 104.668176, 'serum_cholestoral': 223.905184, 'fasting_blood_sugar': 1.0, 'resting_electrocardiographic_results': 2.0, 'maximum_heart_rate_achieved': 178.431158, 'exercise_induced_angina': 0.0, 'oldpeak': 0.335485, 'slope': 2.0, 'number_of_major_vessels': 0.0, 'thal': 7.0} -> Предсказание: 0\n",
            "Запись {'age': 50.812006, 'sex': 1.0, 'chest': 3.0, 'resting_blood_pressure': 129.821742, 'serum_cholestoral': 271.081952, 'fasting_blood_sugar': 0.0, 'resting_electrocardiographic_results': 0.0, 'maximum_heart_rate_achieved': 145.977625, 'exercise_induced_angina': 0.0, 'oldpeak': 0.0, 'slope': 1.0, 'number_of_major_vessels': 1.0, 'thal': 6.0} -> Предсказание: 0\n",
            "Запись {'age': 52.571757, 'sex': 1.0, 'chest': 3.0, 'resting_blood_pressure': 145.030528, 'serum_cholestoral': 246.91478, 'fasting_blood_sugar': 1.0, 'resting_electrocardiographic_results': 0.0, 'maximum_heart_rate_achieved': 176.53463, 'exercise_induced_angina': 0.0, 'oldpeak': -0.000816, 'slope': 1.0, 'number_of_major_vessels': 0.0, 'thal': 7.0} -> Предсказание: 0\n",
            "Запись {'age': 59.182117000000005, 'sex': 0.0, 'chest': 4.0, 'resting_blood_pressure': 106.555511, 'serum_cholestoral': 242.018481, 'fasting_blood_sugar': 1.0, 'resting_electrocardiographic_results': 2.0, 'maximum_heart_rate_achieved': 151.199236, 'exercise_induced_angina': 0.0, 'oldpeak': 0.317042, 'slope': 2.0, 'number_of_major_vessels': 0.0, 'thal': 3.0} -> Предсказание: 0\n",
            "Запись {'age': 39.482571, 'sex': 1.0, 'chest': 4.0, 'resting_blood_pressure': 128.732311, 'serum_cholestoral': 209.393499, 'fasting_blood_sugar': 0.0, 'resting_electrocardiographic_results': 2.0, 'maximum_heart_rate_achieved': 134.611279, 'exercise_induced_angina': 0.0, 'oldpeak': 0.0, 'slope': 1.0, 'number_of_major_vessels': 0.0, 'thal': 7.0} -> Предсказание: 0\n",
            "Предсказания сохранены в файл /content/drive/MyDrive/test_predictions.csv\n"
          ]
        }
      ],
      "source": [
        "import pandas as pd\n",
        "import joblib\n",
        "from google.colab import drive\n",
        "drive.mount('/content/drive')\n",
        "# Загрузка модели и scaler с Google Диска\n",
        "model_file = '/content/drive/MyDrive/best_model.pkl'\n",
        "scaler_file = '/content/drive/MyDrive/scaler.pkl'\n",
        "\n",
        "best_model = joblib.load(model_file)\n",
        "scaler = joblib.load(scaler_file)\n",
        "\n",
        "print(f\"Модель {best_model} и Scaler успешно загружены.\")\n",
        "\n",
        "# Пример кода для инференса (чтение данных, предобработка и предсказание)\n",
        "test_data = pd.read_csv(\"/content/drive/MyDrive/Colab Notebooks/test.csv\")  # путь к тестовым данным на Google Диске\n",
        "\n",
        "# Удаляем строки с пропусками\n",
        "test_data.dropna(inplace=True)\n",
        "\n",
        "# Преобразуем признаки\n",
        "X_test = test_data.drop(columns=[\"ID\"])\n",
        "X_test = pd.get_dummies(X_test, drop_first=True)\n",
        "\n",
        "# Масштабируем данные\n",
        "X_test_scaled = scaler.transform(X_test)\n",
        "\n",
        "# Предсказания\n",
        "y_test_pred = best_model.predict(X_test_scaled)\n",
        "\n",
        "# Вывод первых 50 предсказаний\n",
        "print(\"Предсказания для первых 50 записей:\")\n",
        "for i in range(50):\n",
        "    print(f\"Запись {X_test.iloc[i].to_dict()} -> Предсказание: {y_test_pred[i]}\")\n",
        "\n",
        "# Сохранение предсказаний на Google Диск\n",
        "output_file = '/content/drive/MyDrive/test_predictions.csv'\n",
        "output_df = pd.DataFrame({'id': test_data['ID'], 'predictions': y_test_pred})\n",
        "output_df.to_csv(output_file, index=False)\n",
        "print(f\"Предсказания сохранены в файл {output_file}\")"
      ]
    }
  ]
}